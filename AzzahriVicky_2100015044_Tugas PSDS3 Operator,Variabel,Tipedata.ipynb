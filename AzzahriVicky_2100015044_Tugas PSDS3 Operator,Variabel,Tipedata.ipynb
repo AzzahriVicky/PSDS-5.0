{
 "cells": [
  {
   "cell_type": "markdown",
   "metadata": {},
   "source": [
    "Azzahri Vicky Pratiwi / 2100015044"
   ]
  },
  {
   "cell_type": "markdown",
   "metadata": {
    "id": "1vKlTHcnRO_u"
   },
   "source": [
    "# Operator"
   ]
  },
  {
   "cell_type": "markdown",
   "metadata": {
    "id": "I8p0dEgRRVaw"
   },
   "source": [
    "Operator = Simbol-simbol yang dapat digunakan untuk mengubah nilai dari satu variabel dengan melibatkan satu atau lebih variabel dan literal.\n",
    "tipe-tipe operator\n",
    "1. Operator Aritmatika\n",
    "2. Operator Assignment\n",
    "3. Operator Pembanding\n",
    "4. Operator Logika\n",
    "5. Operator Membership\n"
   ]
  },
  {
   "cell_type": "markdown",
   "metadata": {
    "id": "70-siXeNUd1-"
   },
   "source": [
    "## Operator Aritmatika"
   ]
  },
  {
   "cell_type": "markdown",
   "metadata": {
    "id": "4WxmwTCCSIIO"
   },
   "source": [
    "Operator Aritmatika digunakan untuk melakukan operasi matematika yang umum\n",
    "\n",
    "macam-macam operasi matematika:\n"
   ]
  },
  {
   "cell_type": "code",
   "execution_count": 3,
   "metadata": {
    "id": "YVkXmbqfYNTV"
   },
   "outputs": [
    {
     "name": "stdout",
     "output_type": "stream",
     "text": [
      "+ : Penjumlahan\n",
      "- : Pengurangan\n",
      "* : Perkalian\n",
      "/ : Pembagian\n",
      "% : Modulus\n",
      "** : Perpangkatan\n",
      "// : Pembagian dengan hasil pembulatan flooring\n"
     ]
    }
   ],
   "source": [
    "print ('+ : Penjumlahan')\n",
    "print ('- : Pengurangan')\n",
    "print ('* : Perkalian')\n",
    "print ('/ : Pembagian')\n",
    "print ('% : Modulus')\n",
    "print ('** : Perpangkatan')\n",
    "print ('// : Pembagian dengan hasil pembulatan flooring')"
   ]
  },
  {
   "cell_type": "markdown",
   "metadata": {},
   "source": [
    "### Contoh Penggunaan Operator Aritmatika"
   ]
  },
  {
   "cell_type": "code",
   "execution_count": 4,
   "metadata": {
    "id": "8TOA8u22ZSgO"
   },
   "outputs": [
    {
     "name": "stdout",
     "output_type": "stream",
     "text": [
      "Penjumlahan\n",
      "4\n",
      "--------------------\n",
      "Pengurangan\n",
      "-1\n",
      "Perkalian\n",
      "--------------------\n",
      "6\n",
      "--------------------\n",
      "Pembagian\n",
      "0.6666666666666666\n",
      "--------------------\n",
      "Modulus\n",
      "2\n",
      "--------------------\n",
      "Perpangkatan\n",
      "8\n",
      "--------------------\n",
      "Pembagian Pembulatan Floring\n",
      "0\n"
     ]
    }
   ],
   "source": [
    "#Penjumlahan\n",
    "print('Penjumlahan')\n",
    "print(2+2)\n",
    "#Pengurangan\n",
    "print('-'*20)\n",
    "print('Pengurangan')\n",
    "print(2-3)\n",
    "#Perkalian\n",
    "print('Perkalian')\n",
    "print('-'*20)\n",
    "print(2*3)\n",
    "#Pembagian\n",
    "print('-'*20)\n",
    "print('Pembagian')\n",
    "print(2/3)\n",
    "#Modulus\n",
    "print('-'*20)\n",
    "print('Modulus')\n",
    "print(2%3)\n",
    "#Perpangkatan\n",
    "print('-'*20)\n",
    "print('Perpangkatan')\n",
    "print(2**3)\n",
    "#Pembagian Pembulatan Flooring\n",
    "print('-'*20)\n",
    "print('Pembagian Pembulatan Floring')\n",
    "print(2//3)"
   ]
  },
  {
   "cell_type": "markdown",
   "metadata": {
    "id": "8445zmxQltKY"
   },
   "source": [
    "#### **Latihan Operator 1**"
   ]
  },
  {
   "cell_type": "code",
   "execution_count": 5,
   "metadata": {
    "colab": {
     "base_uri": "https://localhost:8080/"
    },
    "executionInfo": {
     "elapsed": 8,
     "status": "ok",
     "timestamp": 1634365754534,
     "user": {
      "displayName": "NAJWA AZZAHRA",
      "photoUrl": "https://lh3.googleusercontent.com/a/default-user=s64",
      "userId": "12738766495147864133"
     },
     "user_tz": -420
    },
    "id": "xl3Dbzm5lx2_",
    "outputId": "f27c8d53-94b5-4aba-e18f-e0536b6c923a"
   },
   "outputs": [
    {
     "name": "stdout",
     "output_type": "stream",
     "text": [
      "Penjumlahan\n",
      "21\n",
      "--------------------\n",
      "Pengurangan\n",
      "3\n",
      "Perkalian\n",
      "--------------------\n",
      "56\n",
      "--------------------\n",
      "Pembagian\n",
      "3.0\n",
      "--------------------\n",
      "Modulus\n",
      "1\n",
      "--------------------\n",
      "Perpangkatan\n",
      "25\n",
      "--------------------\n",
      "Pembagian Pembulatan Floring\n",
      "2\n"
     ]
    }
   ],
   "source": [
    "# Program penerapan operator aritmatika\n",
    "\n",
    "#Penjumlahan\n",
    "print('Penjumlahan')\n",
    "print(15+6)\n",
    "#Pengurangan\n",
    "print('-'*20)\n",
    "print('Pengurangan')\n",
    "print(10-7)\n",
    "#Perkalian\n",
    "print('Perkalian')\n",
    "print('-'*20)\n",
    "print(8*7)\n",
    "#Pembagian\n",
    "print('-'*20)\n",
    "print('Pembagian')\n",
    "print(9/3)\n",
    "#Modulus\n",
    "print('-'*20)\n",
    "print('Modulus')\n",
    "print(4%3)\n",
    "#Perpangkatan\n",
    "print('-'*20)\n",
    "print('Perpangkatan')\n",
    "print(5**2)\n",
    "#Pembagian Pembulatan Flooring\n",
    "print('-'*20)\n",
    "print('Pembagian Pembulatan Floring')\n",
    "print(5//2)"
   ]
  },
  {
   "cell_type": "markdown",
   "metadata": {
    "id": "BUp1gWmAnA5N"
   },
   "source": [
    "### Operator Assignment"
   ]
  },
  {
   "cell_type": "markdown",
   "metadata": {
    "id": "LoJR_4yOnLgf"
   },
   "source": [
    "Operator `assignment` digunakan untuk menyimpan nilai menjadi suatu variabel"
   ]
  },
  {
   "cell_type": "code",
   "execution_count": 6,
   "metadata": {
    "id": "9Nk1lUg0prSi"
   },
   "outputs": [
    {
     "name": "stdout",
     "output_type": "stream",
     "text": [
      "= : contohnya x = 5 -> x = 5\n",
      "+= : contohnya x = x + 5 -> x += 5\n",
      "-= : contohnya x = x - 5 -> x -= 5\n",
      "*= : contohnya x = x * 5 -> x *= 5\n",
      "/= : contohnya x = x / 5 -> x /= 5\n",
      "%= : contohnya x = x % 5 -> x %= 5\n",
      "//= : contohnya x = x // 5 -> x //= 5\n",
      "**= : contohnya x = x ** 5 -> x **= 5\n"
     ]
    }
   ],
   "source": [
    "print ('= : contohnya x = 5 -> x = 5')\n",
    "print ('+= : contohnya x = x + 5 -> x += 5')\n",
    "print ('-= : contohnya x = x - 5 -> x -= 5')\n",
    "print ('*= : contohnya x = x * 5 -> x *= 5')\n",
    "print ('/= : contohnya x = x / 5 -> x /= 5')\n",
    "print ('%= : contohnya x = x % 5 -> x %= 5')\n",
    "print ('//= : contohnya x = x // 5 -> x //= 5')\n",
    "print ('**= : contohnya x = x ** 5 -> x **= 5')"
   ]
  },
  {
   "cell_type": "markdown",
   "metadata": {},
   "source": [
    "### Contoh Penggunaan Operasi Assignment"
   ]
  },
  {
   "cell_type": "code",
   "execution_count": 7,
   "metadata": {
    "id": "Uz3DpmZhvsFS"
   },
   "outputs": [
    {
     "name": "stdout",
     "output_type": "stream",
     "text": [
      "Penjumlahan\n",
      "10\n",
      "8\n",
      "--------------------\n",
      "Pengurangan\n",
      "0\n",
      "2\n",
      "--------------------\n",
      "Perkalian\n",
      "25\n",
      "15\n",
      "--------------------\n",
      "Pembagian\n",
      "1.0\n",
      "1.6666666666666667\n",
      "--------------------\n",
      "Modulus\n",
      "0\n",
      "2\n",
      "--------------------\n",
      "Pembagian Flooring\n",
      "1\n",
      "1\n",
      "--------------------\n",
      "Perpangkatan\n",
      "3125\n",
      "125\n",
      "--------------------\n"
     ]
    }
   ],
   "source": [
    "#Penjumlahan\n",
    "print ('Penjumlahan')\n",
    "x=5\n",
    "x=x+5\n",
    "print(x)\n",
    "x=5\n",
    "x+=3\n",
    "print(x)\n",
    "print('-'*20)\n",
    "\n",
    "#Pengurangan\n",
    "print ('Pengurangan')\n",
    "x=5\n",
    "x=x-5\n",
    "print(x)\n",
    "x=5\n",
    "x-=3\n",
    "print(x)\n",
    "print('-'*20)\n",
    "\n",
    "#Perkalian\n",
    "print ('Perkalian')\n",
    "x=5\n",
    "x=x*5\n",
    "print(x)\n",
    "x=5\n",
    "x*=3\n",
    "print(x)\n",
    "print('-'*20)\n",
    "\n",
    "#Pembagian\n",
    "print ('Pembagian')\n",
    "x=5\n",
    "x=x/5\n",
    "print(x)\n",
    "x=5\n",
    "x/=3\n",
    "print(x)\n",
    "print('-'*20)\n",
    "\n",
    "#Modulus\n",
    "print ('Modulus')\n",
    "x=5\n",
    "x=x%5\n",
    "print(x)\n",
    "x=5\n",
    "x%=3\n",
    "print(x)\n",
    "print('-'*20)\n",
    "\n",
    "#Pembagian Flooring\n",
    "print ('Pembagian Flooring')\n",
    "x=5\n",
    "x=x//5\n",
    "print(x)\n",
    "x=5\n",
    "x//=3\n",
    "print(x)\n",
    "print('-'*20)\n",
    "\n",
    "#Perpangkatan\n",
    "print ('Perpangkatan')\n",
    "x=5\n",
    "x=x**5\n",
    "print(x)\n",
    "x=5\n",
    "x**=3\n",
    "print(x)\n",
    "print('-'*20)"
   ]
  },
  {
   "cell_type": "markdown",
   "metadata": {
    "id": "JTu0WMwt3jz-"
   },
   "source": [
    "#### **Latihan Operator 2**"
   ]
  },
  {
   "cell_type": "code",
   "execution_count": 8,
   "metadata": {
    "id": "HS7WSNTC2VVZ"
   },
   "outputs": [
    {
     "name": "stdout",
     "output_type": "stream",
     "text": [
      "Penjumlahan\n",
      "9\n",
      "11\n",
      "--------------------\n",
      "Pengurangan\n",
      "-5\n",
      "-7\n",
      "--------------------\n",
      "Perkalian\n",
      "32\n",
      "48\n",
      "--------------------\n",
      "Pembagian\n",
      "0.5\n",
      "0.3333333333333333\n",
      "--------------------\n",
      "Modulus\n",
      "3\n",
      "3\n",
      "--------------------\n",
      "Pembagian Flooring\n",
      "0\n",
      "0\n",
      "--------------------\n",
      "Perpangkatan\n",
      "64\n",
      "16\n",
      "--------------------\n"
     ]
    }
   ],
   "source": [
    "# Program penerapan operasi Assignment\n",
    "\n",
    "#Penjumlahan\n",
    "print ('Penjumlahan')\n",
    "x=2\n",
    "x=x+7\n",
    "print(x)\n",
    "x=2\n",
    "x+=9\n",
    "print(x)\n",
    "print('-'*20)\n",
    "\n",
    "#Pengurangan\n",
    "print ('Pengurangan')\n",
    "x=2\n",
    "x=x-7\n",
    "print(x)\n",
    "x=2\n",
    "x-=9\n",
    "print(x)\n",
    "print('-'*20)\n",
    "\n",
    "#Perkalian\n",
    "print ('Perkalian')\n",
    "x=4\n",
    "x=x*8\n",
    "print(x)\n",
    "x=4\n",
    "x*=12\n",
    "print(x)\n",
    "print('-'*20)\n",
    "\n",
    "#Pembagian\n",
    "print ('Pembagian')\n",
    "x=4\n",
    "x=x/8\n",
    "print(x)\n",
    "x=4\n",
    "x/=12\n",
    "print(x)\n",
    "print('-'*20)\n",
    "\n",
    "#Modulus\n",
    "print ('Modulus')\n",
    "x=3\n",
    "x=x%8\n",
    "print(x)\n",
    "x=3\n",
    "x%=6\n",
    "print(x)\n",
    "print('-'*20)\n",
    "\n",
    "#Pembagian Flooring\n",
    "print ('Pembagian Flooring')\n",
    "x=3\n",
    "x=x//7\n",
    "print(x)\n",
    "x=3\n",
    "x//=5\n",
    "print(x)\n",
    "print('-'*20)\n",
    "\n",
    "#Perpangkatan\n",
    "print ('Perpangkatan')\n",
    "x=4\n",
    "x=x**3\n",
    "print(x)\n",
    "x=4\n",
    "x**=2\n",
    "print(x)\n",
    "print('-'*20)"
   ]
  },
  {
   "cell_type": "markdown",
   "metadata": {
    "id": "MrtAaf6w8n7W"
   },
   "source": [
    "### Operator Pembanding"
   ]
  },
  {
   "cell_type": "markdown",
   "metadata": {
    "id": "R04rl3XP8sH6"
   },
   "source": [
    "Operator pembanding digunakan untuk membandingkan 2 nilai atau variabel\n",
    "\n",
    "macam-macam operator pembanding:"
   ]
  },
  {
   "cell_type": "code",
   "execution_count": 9,
   "metadata": {
    "id": "3TTp2x8r8-Uw"
   },
   "outputs": [
    {
     "name": "stdout",
     "output_type": "stream",
     "text": [
      "== -> samadengan\n",
      "!= -> tidak samadengan\n",
      "> -> lebih dari\n",
      "< -> kurang dari\n",
      ">= -> lebih dari dan samadengan\n",
      "<= -> kurang dari dan sama dengan\n"
     ]
    }
   ],
   "source": [
    "print ('== -> samadengan')\n",
    "print ('!= -> tidak samadengan')\n",
    "print ('> -> lebih dari')\n",
    "print ('< -> kurang dari')\n",
    "print ('>= -> lebih dari dan samadengan')\n",
    "print ('<= -> kurang dari dan sama dengan')"
   ]
  },
  {
   "cell_type": "markdown",
   "metadata": {},
   "source": [
    "### Contoh Penggunaan Operator Pembanding"
   ]
  },
  {
   "cell_type": "code",
   "execution_count": 10,
   "metadata": {
    "id": "D_Ul8sbL-s6T"
   },
   "outputs": [
    {
     "name": "stdout",
     "output_type": "stream",
     "text": [
      "True\n",
      "False\n",
      "False\n",
      "False\n",
      "True\n",
      "True\n"
     ]
    }
   ],
   "source": [
    "print(2==2)\n",
    "print(2!=2)\n",
    "print(2>2)\n",
    "print(2<2)\n",
    "print(2>=2)\n",
    "print(2<=2)"
   ]
  },
  {
   "cell_type": "markdown",
   "metadata": {
    "id": "6SKTKG4s_a8D"
   },
   "source": [
    "**Latihan Operator 3**"
   ]
  },
  {
   "cell_type": "code",
   "execution_count": 11,
   "metadata": {
    "id": "Z1550mY3_Z25"
   },
   "outputs": [
    {
     "name": "stdout",
     "output_type": "stream",
     "text": [
      "False\n",
      "True\n",
      "True\n",
      "True\n",
      "False\n",
      "False\n"
     ]
    }
   ],
   "source": [
    "# Program penerapan operator pembanding\n",
    "\n",
    "print(4==7)\n",
    "print(9!=1)\n",
    "print(8>3)\n",
    "print(6<21)\n",
    "print(7>=8)\n",
    "print(13<=10)"
   ]
  },
  {
   "cell_type": "markdown",
   "metadata": {
    "id": "yqY2AwogAYD2"
   },
   "source": [
    "### Operator Logika"
   ]
  },
  {
   "cell_type": "markdown",
   "metadata": {
    "id": "CqrRyY4AAcga"
   },
   "source": [
    "Operator logika digunakan untuk mengkombinasikan statment-statment kondisional\n",
    "\n",
    "macam-macam operator logika:"
   ]
  },
  {
   "cell_type": "code",
   "execution_count": 12,
   "metadata": {
    "id": "5F6igAypA20U"
   },
   "outputs": [
    {
     "name": "stdout",
     "output_type": "stream",
     "text": [
      "and -> kondisi menjadi benar apabila semua statmentnya benar\n",
      "or -> kondisi menjadi benar apabila salah satu statmentnya ada yang benar\n",
      "not -> membalik hasil dari salah ke benar dan salah ke benar\n"
     ]
    }
   ],
   "source": [
    "print ('and -> kondisi menjadi benar apabila semua statmentnya benar')\n",
    "print ('or -> kondisi menjadi benar apabila salah satu statmentnya ada yang benar')\n",
    "print ('not -> membalik hasil dari salah ke benar dan salah ke benar')"
   ]
  },
  {
   "cell_type": "markdown",
   "metadata": {},
   "source": [
    "### Contoh penggunaan operator logika"
   ]
  },
  {
   "cell_type": "code",
   "execution_count": 13,
   "metadata": {
    "id": "nrqSNWcUBodn"
   },
   "outputs": [
    {
     "name": "stdout",
     "output_type": "stream",
     "text": [
      "False\n",
      "False\n",
      "True\n"
     ]
    }
   ],
   "source": [
    "print(True and False)\n",
    "print(False or False)\n",
    "print(not False and True)"
   ]
  },
  {
   "cell_type": "markdown",
   "metadata": {
    "id": "aH7jtvVQCLBH"
   },
   "source": [
    "**Latihan Oprasional 4**"
   ]
  },
  {
   "cell_type": "code",
   "execution_count": 14,
   "metadata": {
    "id": "8vjxdQ4tCSqU"
   },
   "outputs": [
    {
     "name": "stdout",
     "output_type": "stream",
     "text": [
      "True\n",
      "True\n",
      "False\n"
     ]
    }
   ],
   "source": [
    "# Program penerapan operator logika\n",
    "\n",
    "print(True and True)\n",
    "print(False or True)\n",
    "print(not True and False)"
   ]
  },
  {
   "cell_type": "markdown",
   "metadata": {
    "id": "rki_8GqECylG"
   },
   "source": [
    "### Operator Membership/Keanggotaan"
   ]
  },
  {
   "cell_type": "markdown",
   "metadata": {
    "id": "0OCXPJTDDB36"
   },
   "source": [
    "Operator keanggotaan digunakan untuk menguji apakah urutan disajikan dalam sebuah objek\n",
    "\n",
    "macam-macam operator keanggotaan:"
   ]
  },
  {
   "cell_type": "code",
   "execution_count": 15,
   "metadata": {
    "id": "J7Hq9I9BDWgi"
   },
   "outputs": [
    {
     "name": "stdout",
     "output_type": "stream",
     "text": [
      "in -> return True ketika nilai tertentu dalam sebuah urutan ada\n",
      "not in -> return True ketika nilai tertentu dalam sebuah urutan tidak ada\n"
     ]
    }
   ],
   "source": [
    "print ('in -> return True ketika nilai tertentu dalam sebuah urutan ada')\n",
    "print ('not in -> return True ketika nilai tertentu dalam sebuah urutan tidak ada')"
   ]
  },
  {
   "cell_type": "markdown",
   "metadata": {},
   "source": [
    "### Contoh Penggunaan Operator Keanggotaan"
   ]
  },
  {
   "cell_type": "code",
   "execution_count": 16,
   "metadata": {
    "id": "LSsqdSMNEAwB"
   },
   "outputs": [
    {
     "name": "stdout",
     "output_type": "stream",
     "text": [
      "True\n",
      "--------------------\n",
      "True\n"
     ]
    }
   ],
   "source": [
    "a=(1,2,3,4,5,6)\n",
    "b=(2)\n",
    "print(b in a)\n",
    "\n",
    "print('-'*20)\n",
    "a=(1,2,3,4,5,6)\n",
    "b=(7)\n",
    "print(b not in a)"
   ]
  },
  {
   "cell_type": "markdown",
   "metadata": {
    "id": "4DHwwn5XEphy"
   },
   "source": [
    "**Latihan Oprator 5**"
   ]
  },
  {
   "cell_type": "code",
   "execution_count": 17,
   "metadata": {
    "id": "i48orym_EuAu"
   },
   "outputs": [
    {
     "name": "stdout",
     "output_type": "stream",
     "text": [
      "False\n",
      "--------------------\n",
      "False\n"
     ]
    }
   ],
   "source": [
    "# Program penerapan operasi keanggotaan\n",
    "\n",
    "a=(11,13,17)\n",
    "b=(3)\n",
    "print(b in a)\n",
    "\n",
    "print('-'*20)\n",
    "a=(24,82,56)\n",
    "b=(24)\n",
    "print(b not in a)"
   ]
  },
  {
   "cell_type": "markdown",
   "metadata": {},
   "source": [
    "# Variabel"
   ]
  },
  {
   "cell_type": "markdown",
   "metadata": {},
   "source": [
    "### Variabel"
   ]
  },
  {
   "cell_type": "markdown",
   "metadata": {},
   "source": [
    "**Variabel** : Lokasi penyimpanan yang dapat digunakan untuk menampung sebuah data atau informasi.\n",
    "\n",
    "Syarat-syarat penamaan variabel\n",
    "1. Karakter-karakter yang digunakan untuk penamaan variabel adalag alphabet, angka, dan underscore.\n",
    "2. Karakter pertama variabel harus berupa huruf atau garis bawah/underscore, dan tidak bisa berupa angka.\n",
    "3. Nama sebuah variabel tidak bisa menggunakan keyword atau reserved words dari bahasa Phyton seperti for, if, dan lainnya.\n",
    "4. Karakter pada nama variabel bersifat sensitif (case-sensitif)"
   ]
  },
  {
   "cell_type": "code",
   "execution_count": 23,
   "metadata": {},
   "outputs": [],
   "source": [
    "# membuat variabel\n",
    "kalimat ='ini adalah variabel'\n",
    "bilangan1 = 4\n",
    "bilangan2 = 2.5\n",
    "bilangan3 = True\n",
    "bilangan4 = 1j + 4"
   ]
  },
  {
   "cell_type": "code",
   "execution_count": 19,
   "metadata": {},
   "outputs": [
    {
     "name": "stdout",
     "output_type": "stream",
     "text": [
      "ini adalah variabel\n",
      "4\n",
      "2.5\n",
      "True\n",
      "(4+1j)\n"
     ]
    }
   ],
   "source": [
    "# menampilkan variabel\n",
    "print(kalimat)\n",
    "print(bilangan1)\n",
    "print(bilangan2)\n",
    "print(bilangan3)\n",
    "print(bilangan4)"
   ]
  },
  {
   "cell_type": "markdown",
   "metadata": {},
   "source": [
    "**Latihan 1**"
   ]
  },
  {
   "cell_type": "code",
   "execution_count": 20,
   "metadata": {},
   "outputs": [],
   "source": [
    "# 5 variabel\n",
    "kalimat ='saya itu aku'\n",
    "bilangan1 = 15\n",
    "bilangan2 = 3.6\n",
    "bilangan3 = False\n",
    "bilangan4 = 2j + 26"
   ]
  },
  {
   "cell_type": "code",
   "execution_count": 21,
   "metadata": {},
   "outputs": [
    {
     "name": "stdout",
     "output_type": "stream",
     "text": [
      "False\n",
      "saya itu aku\n",
      "15\n"
     ]
    }
   ],
   "source": [
    "print(bilangan3)\n",
    "print(kalimat)\n",
    "print(bilangan1)"
   ]
  },
  {
   "cell_type": "markdown",
   "metadata": {},
   "source": [
    "# Tipe Data & Konversi Tipe Data"
   ]
  },
  {
   "cell_type": "markdown",
   "metadata": {},
   "source": [
    "### Tipe Data"
   ]
  },
  {
   "cell_type": "markdown",
   "metadata": {},
   "source": [
    "5 tipe data yaitu\n",
    "1. integr atau bilangan bulat\n",
    "2. float atau bilangan desimal\n",
    "3. string atau kalimat\n",
    "4. boolean yang terdiri dari True dan False\n",
    "5. complex yang merupakan bilangan kompleks"
   ]
  },
  {
   "cell_type": "code",
   "execution_count": 24,
   "metadata": {},
   "outputs": [
    {
     "name": "stdout",
     "output_type": "stream",
     "text": [
      "<class 'str'>\n",
      "<class 'int'>\n",
      "<class 'float'>\n",
      "<class 'bool'>\n",
      "<class 'complex'>\n"
     ]
    }
   ],
   "source": [
    "# menampilkan tipe data\n",
    "print(type(kalimat))\n",
    "print(type(bilangan1))\n",
    "print(type(bilangan2))\n",
    "print(type(bilangan3))\n",
    "print(type(bilangan4))"
   ]
  },
  {
   "cell_type": "markdown",
   "metadata": {},
   "source": [
    "**Latihan 2**"
   ]
  },
  {
   "cell_type": "code",
   "execution_count": 25,
   "metadata": {},
   "outputs": [
    {
     "name": "stdout",
     "output_type": "stream",
     "text": [
      "<class 'str'>\n",
      "<class 'int'>\n",
      "<class 'float'>\n",
      "<class 'bool'>\n",
      "<class 'complex'>\n"
     ]
    }
   ],
   "source": [
    "# tipe data variabel Latihan 1\n",
    "print(type(kalimat))\n",
    "print(type(bilangan1))\n",
    "print(type(bilangan2))\n",
    "print(type(bilangan3))\n",
    "print(type(bilangan4))"
   ]
  },
  {
   "cell_type": "markdown",
   "metadata": {},
   "source": [
    "### Konversi Tipe Data"
   ]
  },
  {
   "cell_type": "markdown",
   "metadata": {},
   "source": [
    "Syntax konversi tipe data\n",
    "1. Integer =int()\n",
    "2. Float = float()\n",
    "3. String = str()\n",
    "4. Boolean = bool()\n",
    "5. Complex = complex()"
   ]
  },
  {
   "cell_type": "code",
   "execution_count": 26,
   "metadata": {},
   "outputs": [
    {
     "name": "stdout",
     "output_type": "stream",
     "text": [
      "2\n",
      "1\n"
     ]
    }
   ],
   "source": [
    "# konversi tipe data integer\n",
    "print(int(bilangan2))\n",
    "print(int(bilangan3))"
   ]
  },
  {
   "cell_type": "code",
   "execution_count": 27,
   "metadata": {},
   "outputs": [
    {
     "name": "stdout",
     "output_type": "stream",
     "text": [
      "4.0\n",
      "1.0\n"
     ]
    }
   ],
   "source": [
    "# Konversi tipe float\n",
    "print(float(bilangan1))\n",
    "print(float(bilangan3))"
   ]
  },
  {
   "cell_type": "code",
   "execution_count": 28,
   "metadata": {},
   "outputs": [
    {
     "name": "stdout",
     "output_type": "stream",
     "text": [
      "4\n",
      "2.5\n",
      "True\n"
     ]
    }
   ],
   "source": [
    "# Konversi tipe data string\n",
    "print(str(bilangan1))\n",
    "print(str(bilangan2))\n",
    "print(str(bilangan3))"
   ]
  },
  {
   "cell_type": "code",
   "execution_count": 29,
   "metadata": {},
   "outputs": [
    {
     "name": "stdout",
     "output_type": "stream",
     "text": [
      "42.5\n"
     ]
    }
   ],
   "source": [
    "A= str(bilangan1)\n",
    "B= str(bilangan2)\n",
    "print(A+B)"
   ]
  },
  {
   "cell_type": "code",
   "execution_count": 30,
   "metadata": {},
   "outputs": [
    {
     "name": "stdout",
     "output_type": "stream",
     "text": [
      "True\n",
      "True\n"
     ]
    }
   ],
   "source": [
    "# Konversi tipe data bool\n",
    "print(bool(bilangan1))\n",
    "print(bool(bilangan2))"
   ]
  },
  {
   "cell_type": "code",
   "execution_count": 31,
   "metadata": {},
   "outputs": [
    {
     "name": "stdout",
     "output_type": "stream",
     "text": [
      "(4+0j)\n",
      "(2.5+0j)\n",
      "(1+0j)\n"
     ]
    }
   ],
   "source": [
    "# Konversi tipe data kompleks\n",
    "print(complex(bilangan1))\n",
    "print(complex(bilangan2))\n",
    "print(complex(bilangan3))"
   ]
  },
  {
   "cell_type": "markdown",
   "metadata": {},
   "source": [
    "**Latihan 3**"
   ]
  },
  {
   "cell_type": "code",
   "execution_count": 36,
   "metadata": {},
   "outputs": [],
   "source": [
    "# 5 variabel\n",
    "kalimat ='saya itu aku'\n",
    "bilangan1 = 15\n",
    "bilangan2 = 3.6\n",
    "bilangan3 = False\n",
    "bilangan4 = 2j + 26"
   ]
  },
  {
   "cell_type": "code",
   "execution_count": 37,
   "metadata": {},
   "outputs": [
    {
     "name": "stdout",
     "output_type": "stream",
     "text": [
      "3\n",
      "0\n"
     ]
    }
   ],
   "source": [
    "# konversi tipe data integer\n",
    "print(int(bilangan2))\n",
    "print(int(bilangan3))"
   ]
  },
  {
   "cell_type": "code",
   "execution_count": 38,
   "metadata": {},
   "outputs": [
    {
     "name": "stdout",
     "output_type": "stream",
     "text": [
      "15.0\n",
      "0.0\n"
     ]
    }
   ],
   "source": [
    "# Konversi tipe float\n",
    "print(float(bilangan1))\n",
    "print(float(bilangan3))"
   ]
  },
  {
   "cell_type": "code",
   "execution_count": 39,
   "metadata": {},
   "outputs": [
    {
     "name": "stdout",
     "output_type": "stream",
     "text": [
      "15\n",
      "3.6\n",
      "False\n"
     ]
    }
   ],
   "source": [
    "# Konversi tipe data string\n",
    "print(str(bilangan1))\n",
    "print(str(bilangan2))\n",
    "print(str(bilangan3))"
   ]
  },
  {
   "cell_type": "code",
   "execution_count": 40,
   "metadata": {},
   "outputs": [
    {
     "name": "stdout",
     "output_type": "stream",
     "text": [
      "True\n",
      "True\n"
     ]
    }
   ],
   "source": [
    "# Konversi tipe data bool\n",
    "print(bool(bilangan1))\n",
    "print(bool(bilangan2))"
   ]
  },
  {
   "cell_type": "code",
   "execution_count": 41,
   "metadata": {},
   "outputs": [
    {
     "name": "stdout",
     "output_type": "stream",
     "text": [
      "(15+0j)\n",
      "(3.6+0j)\n",
      "0j\n"
     ]
    }
   ],
   "source": [
    "# Konversi tipe data kompleks\n",
    "print(complex(bilangan1))\n",
    "print(complex(bilangan2))\n",
    "print(complex(bilangan3))"
   ]
  }
 ],
 "metadata": {
  "colab": {
   "authorship_tag": "ABX9TyNvcdGibk/3MYSR4nozuzrN",
   "name": "M1P2V1_Operator.ipynb",
   "provenance": []
  },
  "kernelspec": {
   "display_name": "Python 3 (ipykernel)",
   "language": "python",
   "name": "python3"
  },
  "language_info": {
   "codemirror_mode": {
    "name": "ipython",
    "version": 3
   },
   "file_extension": ".py",
   "mimetype": "text/x-python",
   "name": "python",
   "nbconvert_exporter": "python",
   "pygments_lexer": "ipython3",
   "version": "3.9.7"
  }
 },
 "nbformat": 4,
 "nbformat_minor": 1
}
