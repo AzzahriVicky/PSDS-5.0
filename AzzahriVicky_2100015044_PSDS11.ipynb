{
  "nbformat": 4,
  "nbformat_minor": 0,
  "metadata": {
    "colab": {
      "provenance": []
    },
    "kernelspec": {
      "name": "python3",
      "display_name": "Python 3"
    },
    "language_info": {
      "name": "python"
    }
  },
  "cells": [
    {
      "cell_type": "markdown",
      "source": [
        "Azzahri Vicky Pratiwi/2100015044"
      ],
      "metadata": {
        "id": "8kq7ODWt7WsS"
      }
    },
    {
      "cell_type": "markdown",
      "source": [
        "1.  Fungsi lambda menghitung luas persegi panjang"
      ],
      "metadata": {
        "id": "fpkVU00O7eci"
      }
    },
    {
      "cell_type": "code",
      "source": [
        "f = lambda p,l: p*l\n",
        "luas_persegi_panjang = f(12,6)\n",
        "print(\"Luas persegi panjang anda\", luas_persegi_panjang, \"cm\")"
      ],
      "metadata": {
        "colab": {
          "base_uri": "https://localhost:8080/"
        },
        "id": "CoTJQede7jZb",
        "outputId": "ddd813b2-4805-4576-c32d-3b645dd7619d"
      },
      "execution_count": 1,
      "outputs": [
        {
          "output_type": "stream",
          "name": "stdout",
          "text": [
            "Luas persegi panjang anda 72 cm\n"
          ]
        }
      ]
    },
    {
      "cell_type": "markdown",
      "source": [
        "2.Fungsi lambda menghitung luas segitiga"
      ],
      "metadata": {
        "id": "qPaDPrAG7qDf"
      }
    },
    {
      "cell_type": "code",
      "source": [
        "f = lambda a,t: (a*t)/2\n",
        "luas_segitiga = f(16,7)\n",
        "print(\"Luas segitiga anda\", luas_segitiga, \"cm\")"
      ],
      "metadata": {
        "colab": {
          "base_uri": "https://localhost:8080/"
        },
        "id": "bd1FdgZi7tjX",
        "outputId": "954eb5f1-1aee-41ae-bfa8-15cdabd36426"
      },
      "execution_count": 2,
      "outputs": [
        {
          "output_type": "stream",
          "name": "stdout",
          "text": [
            "Luas segitiga anda 56.0 cm\n"
          ]
        }
      ]
    }
  ]
}