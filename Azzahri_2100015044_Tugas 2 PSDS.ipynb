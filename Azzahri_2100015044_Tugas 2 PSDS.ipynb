{
 "cells": [
  {
   "cell_type": "markdown",
   "id": "2d6d52d8",
   "metadata": {},
   "source": [
    "## Pengenalan Python"
   ]
  },
  {
   "cell_type": "markdown",
   "id": "bbb3faf8",
   "metadata": {},
   "source": [
    "Phyton adalah Bahasa pemrograman tingkat tinggi dengan dynamic semantics, bersifat object\n",
    "oriented, dan interpretatif. Bahasa pemrograman ini fokus dikembangkan pada keterbacaan\n",
    "bahasa pemrograman.\n",
    "\n",
    "#### 1. Bahasa Pemrograman Tingkat Tinggi (High Level Programming)\n",
    "Artinya sintaks kode lebih mudah ditafsirkan oleh manusia.\n",
    "#### 2. Interpretatif Ini \n",
    "artinya bahasa ini memerlukan intrepeter atau penerjemah. Ini memungkinkan kita untuk menggunakan Bahasa yang lebih mudah kita pahami.\n",
    "#### 3. Object Oriented\n",
    "Ini berarti bahwa bahasa pemrograman ini berorientasi kepada objek. Hal ini membuat Phyton lebih mudah untuk dikembangkan.\n",
    "#### 4. Dynamic Semantic Phyton \n",
    "secara otomatis akan menyesuaikan tipe dari suatu variable berdasarkan inputnya."
   ]
  },
  {
   "cell_type": "markdown",
   "id": "bec1a9a4",
   "metadata": {},
   "source": [
    "## Mengapa Phyton ?\n",
    "1. Mudah dipahami\n",
    "2. Grafis & Open Source\n",
    "3. Dinamis\n",
    "4. Memiliki Library Terlengkap untuk Data Sains\n"
   ]
  },
  {
   "cell_type": "markdown",
   "id": "07226518",
   "metadata": {},
   "source": [
    "## Struktur Program Pada Phyton\n",
    "Phyton pada umumnya terdiri dari :\n",
    "#### 1. Statement"
   ]
  },
  {
   "cell_type": "code",
   "execution_count": 1,
   "id": "950d3145",
   "metadata": {},
   "outputs": [
    {
     "name": "stdout",
     "output_type": "stream",
     "text": [
      "belajar Phyton menyenangkan\n",
      "halo dunia\n"
     ]
    }
   ],
   "source": [
    "print(\"belajar Phyton menyenangkan\")\n",
    "print(\"halo dunia\")\n"
   ]
  },
  {
   "cell_type": "markdown",
   "id": "0c151069",
   "metadata": {},
   "source": [
    "#### 2. Variables"
   ]
  },
  {
   "cell_type": "code",
   "execution_count": 2,
   "id": "4ceae39c",
   "metadata": {},
   "outputs": [],
   "source": [
    "bilangan1 = 5\n",
    "bilangan2 = 10\n",
    "kalimat = \"Pejuang Data 3\""
   ]
  },
  {
   "cell_type": "markdown",
   "id": "7a23e0ae",
   "metadata": {},
   "source": [
    "#### 3. Literals : \n",
    "Simbol-simbol yang dapat kita gunakan untuk mengisi suatu variable.\n",
    "#### 4. Operators : \n",
    "Simbol-simbol yang dapat digunakan untuk mengubah nilai dari satu variable dengan melibatkan satu atau lebih variable dan literal\n"
   ]
  },
  {
   "cell_type": "code",
   "execution_count": 3,
   "id": "9c35f269",
   "metadata": {},
   "outputs": [
    {
     "data": {
      "text/plain": [
       "15"
      ]
     },
     "execution_count": 3,
     "metadata": {},
     "output_type": "execute_result"
    }
   ],
   "source": [
    "bilangan1 + bilangan2"
   ]
  },
  {
   "cell_type": "markdown",
   "id": "64172bc2",
   "metadata": {},
   "source": [
    "#### 5. Reserved Words : \n",
    "Kumpulan kata-kata yang memiliki makna khusus dalam bahasa pemrograman Phyton. Kata false , return , dan for merupakan contoh dari reserved\n",
    "words.\n",
    "#### 6. Whitespace : \n",
    "Pada bahasa Phyton, spasi dan tab memiliki makna khusus untuk menandai serangkaian blok dalam kode Phyton.\n",
    "#### 7. Comments : \n",
    "Comments merupakan sekumpulan teks yang dituliskan di dalam sebuah program yang tidak akan mempengaruhi hasil dari sebuah pemrograman.\n",
    "Terdapat dua jenis comments di dalam Phyton, yaitu :\n",
    "##### a. single line comment (comments dalam satu baris) seperti contoh berikut :"
   ]
  },
  {
   "cell_type": "code",
   "execution_count": 5,
   "id": "d46cc2ad",
   "metadata": {},
   "outputs": [
    {
     "name": "stdout",
     "output_type": "stream",
     "text": [
      "belajar Phyton\n"
     ]
    }
   ],
   "source": [
    "# Ini adalah Comment\n",
    "print(\"belajar Phyton\")"
   ]
  },
  {
   "cell_type": "markdown",
   "id": "6e4e6f83",
   "metadata": {},
   "source": [
    "##### b. multi line comment (comments dalam beberapa baris) yang dapat dilakukan\n",
    "seperti pada contoh berikut :"
   ]
  },
  {
   "cell_type": "code",
   "execution_count": 8,
   "id": "e71c3c14",
   "metadata": {},
   "outputs": [
    {
     "name": "stdout",
     "output_type": "stream",
     "text": [
      "Belajar Phyton menyenangkan\n"
     ]
    }
   ],
   "source": [
    "'''\n",
    "Ini adalah komentar panjang\n",
    "Bisa digunakan untuk memberikan penjelasan\n",
    "panjang pada Sell Kode Phyton,\n",
    "Misal dokumentasi program, spesifikasi\n",
    "input output atau lainnya\n",
    "'''\n",
    "print('Belajar Phyton menyenangkan')"
   ]
  }
 ],
 "metadata": {
  "kernelspec": {
   "display_name": "Python 3 (ipykernel)",
   "language": "python",
   "name": "python3"
  },
  "language_info": {
   "codemirror_mode": {
    "name": "ipython",
    "version": 3
   },
   "file_extension": ".py",
   "mimetype": "text/x-python",
   "name": "python",
   "nbconvert_exporter": "python",
   "pygments_lexer": "ipython3",
   "version": "3.9.7"
  }
 },
 "nbformat": 4,
 "nbformat_minor": 5
}
