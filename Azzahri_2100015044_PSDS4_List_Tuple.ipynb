{
 "cells": [
  {
   "cell_type": "markdown",
   "metadata": {
    "id": "X0vA91WatQms"
   },
   "source": [
    "## List"
   ]
  },
  {
   "cell_type": "markdown",
   "metadata": {
    "id": "k0bmVNHewIV7"
   },
   "source": [
    "List adalah jenis kumpulan data terurut (ordered sequence) dan merupakan salah satu variabel yang sering digunakan pada Python. Serupa namun tak sama array pada bahasa pemrograman lainnya. Bedanya, elemen List pada Python tidak harus memiliki tipe data yang sama. Mendeklarasikan List cukup mudah dengan kurung siku dan elemen yang dipisahkan dengan koma.\n",
    "\n",
    "Setiap data di dalamnya dapat diakses dengan indeks yang dimulai dari 0."
   ]
  },
  {
   "cell_type": "code",
   "execution_count": 2,
   "metadata": {
    "colab": {
     "base_uri": "https://localhost:8080/"
    },
    "executionInfo": {
     "elapsed": 14,
     "status": "ok",
     "timestamp": 1633694808587,
     "user": {
      "displayName": "NAJWA AZZAHRA",
      "photoUrl": "https://lh3.googleusercontent.com/a/default-user=s64",
      "userId": "12738766495147864133"
     },
     "user_tz": -420
    },
    "id": "DvoQXzWTx-B2",
    "outputId": "02544813-ee7a-4290-c6aa-8931d14070ca"
   },
   "outputs": [
    {
     "name": "stdout",
     "output_type": "stream",
     "text": [
      "<class 'list'>\n"
     ]
    }
   ],
   "source": [
    "# Contoh List\n",
    "L1 = [1, 4, 2, 13]\n",
    "\n",
    "print(type(L1))"
   ]
  },
  {
   "cell_type": "code",
   "execution_count": 3,
   "metadata": {
    "colab": {
     "base_uri": "https://localhost:8080/"
    },
    "executionInfo": {
     "elapsed": 381,
     "status": "ok",
     "timestamp": 1633694890822,
     "user": {
      "displayName": "NAJWA AZZAHRA",
      "photoUrl": "https://lh3.googleusercontent.com/a/default-user=s64",
      "userId": "12738766495147864133"
     },
     "user_tz": -420
    },
    "id": "Dz-ItwBBzQx3",
    "outputId": "29ee3df4-9879-43c5-ad64-8e6ba9a0ef7a"
   },
   "outputs": [
    {
     "data": {
      "text/plain": [
       "['a', 'Python', 3]"
      ]
     },
     "execution_count": 3,
     "metadata": {},
     "output_type": "execute_result"
    }
   ],
   "source": [
    "L2 = [\"a\", \"Python\", 3]\n",
    "L2"
   ]
  },
  {
   "cell_type": "code",
   "execution_count": 4,
   "metadata": {
    "colab": {
     "base_uri": "https://localhost:8080/"
    },
    "executionInfo": {
     "elapsed": 309,
     "status": "ok",
     "timestamp": 1633694966460,
     "user": {
      "displayName": "NAJWA AZZAHRA",
      "photoUrl": "https://lh3.googleusercontent.com/a/default-user=s64",
      "userId": "12738766495147864133"
     },
     "user_tz": -420
    },
    "id": "utLG1K61zo6z",
    "outputId": "e74677ed-f5e0-479a-f829-f2b88a6179d2"
   },
   "outputs": [
    {
     "name": "stdout",
     "output_type": "stream",
     "text": [
      "[1, 4, 2, 13]\n",
      "['a', 'Python', 3]\n"
     ]
    }
   ],
   "source": [
    "print(L1)\n",
    "print(L2)"
   ]
  },
  {
   "cell_type": "markdown",
   "metadata": {
    "id": "SKctekCtz7EY"
   },
   "source": [
    "**Latihan**"
   ]
  },
  {
   "cell_type": "code",
   "execution_count": 18,
   "metadata": {
    "colab": {
     "base_uri": "https://localhost:8080/"
    },
    "executionInfo": {
     "elapsed": 376,
     "status": "ok",
     "timestamp": 1633697825549,
     "user": {
      "displayName": "NAJWA AZZAHRA",
      "photoUrl": "https://lh3.googleusercontent.com/a/default-user=s64",
      "userId": "12738766495147864133"
     },
     "user_tz": -420
    },
    "id": "tx7zWbirz-gF",
    "outputId": "d4229b27-99b5-4911-8219-026e7b62e8a8"
   },
   "outputs": [
    {
     "name": "stdout",
     "output_type": "stream",
     "text": [
      "[3, 7, 11, 14]\n",
      "['Ya', 'q', 5]\n"
     ]
    }
   ],
   "source": [
    "L1 = [3, 7, 11, 14]\n",
    "L2 = [\"Ya\", \"q\", 5]\n",
    "\n",
    "print(L1)\n",
    "print(L2)"
   ]
  },
  {
   "cell_type": "markdown",
   "metadata": {
    "id": "b-_r3dZC0EGh"
   },
   "source": [
    "Indeks di Python (List, Tuple) dimulai dari 0."
   ]
  },
  {
   "cell_type": "markdown",
   "metadata": {},
   "source": [
    "### Sifat-Sifat List"
   ]
  },
  {
   "cell_type": "code",
   "execution_count": 5,
   "metadata": {
    "colab": {
     "base_uri": "https://localhost:8080/"
    },
    "executionInfo": {
     "elapsed": 11,
     "status": "ok",
     "timestamp": 1633697015767,
     "user": {
      "displayName": "NAJWA AZZAHRA",
      "photoUrl": "https://lh3.googleusercontent.com/a/default-user=s64",
      "userId": "12738766495147864133"
     },
     "user_tz": -420
    },
    "id": "iKwyLSs10rkV",
    "outputId": "e9816c28-2c98-473b-d09c-77082f9ebd89"
   },
   "outputs": [
    {
     "name": "stdout",
     "output_type": "stream",
     "text": [
      "memanggil List L1 dengan indeks urutan: [1, 4, 2]\n",
      "List L1 setelah diganti elemennya: [1, 2, 2, 13]\n",
      "Sliching List L1: 13\n",
      "Duplikasi pada List L1: [1, 'Dua', True, (2+3j), (2+3j)]\n",
      "Data setelah diubah: [1, 'Dua', 3, (2+3j)]\n",
      "Data setelah ditambah elemennya: [1, 'Dua', True, (2+3j), 20]\n",
      "Data setelah dihapus elemennya: [1, 'Dua', True]\n"
     ]
    }
   ],
   "source": [
    "#Terurut/Ordered\n",
    "print(\"memanggil List L1 dengan indeks urutan:\", L1[0:3])\n",
    "\n",
    "#Bisa diganti/Mutable\n",
    "L1[1] = 2\n",
    "print(\"List L1 setelah diganti elemennya:\", L1)\n",
    "\n",
    "#Dapat diindeks/Sliching\n",
    "print(\"Sliching List L1:\", L1[3])\n",
    "\n",
    "#Dapat diizinkan duplikasi\n",
    "L1 = [1, \"Dua\", True, 2+3j, 2+3j]\n",
    "print(\"Duplikasi pada List L1:\", L1)\n",
    "\n",
    "#Dapat mengubah data dengan mengganti elemen tertentu\n",
    "L1 = [1,\"Dua\", True, 2+3j]\n",
    "L1[2]=3\n",
    "print(\"Data setelah diubah:\", L1)\n",
    "\n",
    "#Dapat menambahkan elemen baru pada data\n",
    "L1 = [1,\"Dua\", True, 2+3j]\n",
    "L1.append(20)\n",
    "print(\"Data setelah ditambah elemennya:\", L1)\n",
    "\n",
    "#Dapat mengahpus elemen pada data (remove()= menghapus berdasarkan nama objek)\n",
    "L1 = [1,\"Dua\", True, 2+3j]\n",
    "L1.remove(2+3j)\n",
    "print(\"Data setelah dihapus elemennya:\", L1)"
   ]
  },
  {
   "cell_type": "code",
   "execution_count": 7,
   "metadata": {},
   "outputs": [
    {
     "name": "stdout",
     "output_type": "stream",
     "text": [
      "[1, 'Dua', True, (2+3j), 'nanas']\n"
     ]
    }
   ],
   "source": [
    "# Menambahkan data menggunakan fungsi extend\n",
    "L1 = [1,\"Dua\", True, 2+3j]\n",
    "L1.extend([\"nanas\"])\n",
    "print(L1)"
   ]
  },
  {
   "cell_type": "code",
   "execution_count": 8,
   "metadata": {},
   "outputs": [
    {
     "name": "stdout",
     "output_type": "stream",
     "text": [
      "[1, 'Dua', 5, True, (2+3j)]\n"
     ]
    }
   ],
   "source": [
    "# Menambahkan data menggunakan fungsi insert\n",
    "L1 = [1,\"Dua\", True, 2+3j]\n",
    "L1.insert(2, 5)\n",
    "print(L1)"
   ]
  },
  {
   "cell_type": "code",
   "execution_count": 9,
   "metadata": {},
   "outputs": [
    {
     "name": "stdout",
     "output_type": "stream",
     "text": [
      "[1, 'Dua', (2+3j)]\n"
     ]
    }
   ],
   "source": [
    "#Menghapus elemen menggunakan fungsi pop() (berdasarkan indeks)\n",
    "L1 = [1,\"Dua\", True, 2+3j]\n",
    "L1.pop(2)\n",
    "print(L1)"
   ]
  },
  {
   "cell_type": "code",
   "execution_count": 10,
   "metadata": {},
   "outputs": [
    {
     "name": "stdout",
     "output_type": "stream",
     "text": [
      "[1, 'Dua', True]\n"
     ]
    }
   ],
   "source": [
    "L1 = [1,\"Dua\", True, 2+3j]\n",
    "L1.pop()\n",
    "print(L1)"
   ]
  },
  {
   "cell_type": "markdown",
   "metadata": {
    "id": "6QJ2noHV7qvH"
   },
   "source": [
    "**Latihan 2**"
   ]
  },
  {
   "cell_type": "code",
   "execution_count": 20,
   "metadata": {
    "colab": {
     "base_uri": "https://localhost:8080/"
    },
    "executionInfo": {
     "elapsed": 479,
     "status": "ok",
     "timestamp": 1633697865844,
     "user": {
      "displayName": "NAJWA AZZAHRA",
      "photoUrl": "https://lh3.googleusercontent.com/a/default-user=s64",
      "userId": "12738766495147864133"
     },
     "user_tz": -420
    },
    "id": "1I62ORHV7wip",
    "outputId": "c9ea6d1a-0236-440b-ebec-e5873411c9a9"
   },
   "outputs": [
    {
     "name": "stdout",
     "output_type": "stream",
     "text": [
      "Memanggil List L1 dengan indeks urutan: [7, 17]\n",
      "List L1 setelah elemennya diganti: [3, 7, 17, 14]\n",
      "Sliching List L1: 5\n",
      "Duplikasi pada List L2: ['Ya', 5, 'q', 5]\n"
     ]
    }
   ],
   "source": [
    "#Ordered\n",
    "print(\"Memanggil List L1 dengan indeks urutan:\", L1[1:3])\n",
    "\n",
    "#Mutable\n",
    "L1[2] = 17\n",
    "print(\"List L1 setelah elemennya diganti:\", L1)\n",
    "\n",
    "#Sliching\n",
    "print(\"Sliching List L1:\", L2[1])\n",
    "\n",
    "#Duplikasi\n",
    "L2 = [\"Ya\", 5, \"q\", 5]\n",
    "print(\"Duplikasi pada List L2:\", L2)"
   ]
  },
  {
   "cell_type": "markdown",
   "metadata": {},
   "source": [
    "## Struktur Data Tuple"
   ]
  },
  {
   "cell_type": "markdown",
   "metadata": {},
   "source": [
    "Tuple adalah jenis dari struktur data yang tidak dapat diubah elemennya. Umumnya Tuple digunakan untuk data yang bersifat sekali tulis dan dapat dieksekusi lebih cepat. Tuple didefinisikan dengan kurung dan elemen yang dipisahkan dengan koma."
   ]
  },
  {
   "cell_type": "code",
   "execution_count": 20,
   "metadata": {},
   "outputs": [
    {
     "name": "stdout",
     "output_type": "stream",
     "text": [
      "ini adalah Tuple (1, 'dua', True, (1+2j))\n"
     ]
    }
   ],
   "source": [
    "# Contoh Tuple\n",
    "T1 = (1, \"dua\", True, 1+2j)\n",
    "print (\"ini adalah Tuple\", T1)"
   ]
  },
  {
   "cell_type": "code",
   "execution_count": 7,
   "metadata": {},
   "outputs": [
    {
     "data": {
      "text/plain": [
       "tuple"
      ]
     },
     "execution_count": 7,
     "metadata": {},
     "output_type": "execute_result"
    }
   ],
   "source": [
    "# Menampilkan tipe struktur data\n",
    "type(T1)"
   ]
  },
  {
   "cell_type": "markdown",
   "metadata": {},
   "source": [
    "**Latihan**"
   ]
  },
  {
   "cell_type": "code",
   "execution_count": 8,
   "metadata": {},
   "outputs": [
    {
     "name": "stdout",
     "output_type": "stream",
     "text": [
      "ini adalah Tuple buatan saya (3, 'kita', False, (5+3j))\n"
     ]
    }
   ],
   "source": [
    "#Tuple 1\n",
    "T1 = (3, \"kita\", False, 5+3j)\n",
    "print (\"ini adalah Tuple buatan saya\", T1)"
   ]
  },
  {
   "cell_type": "markdown",
   "metadata": {},
   "source": [
    "### Sifat-Sifat Tuple"
   ]
  },
  {
   "cell_type": "code",
   "execution_count": 10,
   "metadata": {},
   "outputs": [
    {
     "name": "stdout",
     "output_type": "stream",
     "text": [
      "memanggil Tuple T1 dengan indeks urutan: (3, 'kita', False)\n"
     ]
    }
   ],
   "source": [
    "#Terurut/Ordered\n",
    "T1[0:3]\n",
    "print(\"memanggil Tuple T1 dengan indeks urutan:\",T1[0:3])"
   ]
  },
  {
   "cell_type": "code",
   "execution_count": 11,
   "metadata": {},
   "outputs": [
    {
     "ename": "TypeError",
     "evalue": "'tuple' object does not support item assignment",
     "output_type": "error",
     "traceback": [
      "\u001b[1;31m---------------------------------------------------------------------------\u001b[0m",
      "\u001b[1;31mTypeError\u001b[0m                                 Traceback (most recent call last)",
      "\u001b[1;32m~\\AppData\\Local\\Temp/ipykernel_10084/1023713548.py\u001b[0m in \u001b[0;36m<module>\u001b[1;34m\u001b[0m\n\u001b[0;32m      1\u001b[0m \u001b[1;31m#Tibak bisa diganti/Immutable\u001b[0m\u001b[1;33m\u001b[0m\u001b[1;33m\u001b[0m\u001b[0m\n\u001b[1;32m----> 2\u001b[1;33m \u001b[0mT1\u001b[0m\u001b[1;33m[\u001b[0m\u001b[1;36m2\u001b[0m\u001b[1;33m]\u001b[0m \u001b[1;33m=\u001b[0m \u001b[1;34m\"manusia\"\u001b[0m\u001b[1;33m\u001b[0m\u001b[1;33m\u001b[0m\u001b[0m\n\u001b[0m\u001b[0;32m      3\u001b[0m \u001b[0mprint\u001b[0m\u001b[1;33m(\u001b[0m\u001b[1;34m\"Tuple T1 tidak bisa diganti:\"\u001b[0m\u001b[1;33m,\u001b[0m\u001b[0mT1\u001b[0m\u001b[1;33m[\u001b[0m\u001b[1;36m2\u001b[0m\u001b[1;33m]\u001b[0m\u001b[1;33m)\u001b[0m\u001b[1;33m\u001b[0m\u001b[1;33m\u001b[0m\u001b[0m\n",
      "\u001b[1;31mTypeError\u001b[0m: 'tuple' object does not support item assignment"
     ]
    }
   ],
   "source": [
    "#Tibak bisa diganti/Immutable\n",
    "T1[2] = \"manusia\"\n",
    "print(\"Tuple T1 tidak bisa diganti:\",T1[2])\n"
   ]
  },
  {
   "cell_type": "code",
   "execution_count": 21,
   "metadata": {},
   "outputs": [
    {
     "name": "stdout",
     "output_type": "stream",
     "text": [
      "elemen kedua dari Tuple T1 adalah: dua\n"
     ]
    }
   ],
   "source": [
    "#Dapat diindeks/slicing\n",
    "print(\"elemen kedua dari Tuple T1 adalah:\", T1[1])"
   ]
  },
  {
   "cell_type": "code",
   "execution_count": 13,
   "metadata": {},
   "outputs": [
    {
     "name": "stdout",
     "output_type": "stream",
     "text": [
      "elemen Tuple T2 setelah diduplikat: (3, 2.4, True, 2.4)\n"
     ]
    }
   ],
   "source": [
    "#Dapat diizinkan duplikasi\n",
    "T2 = (3, 2.4, True, 2.4)\n",
    "print('elemen Tuple T2 setelah diduplikat:',T2)"
   ]
  },
  {
   "cell_type": "code",
   "execution_count": 3,
   "metadata": {},
   "outputs": [
    {
     "name": "stdout",
     "output_type": "stream",
     "text": [
      " tuple\t:(1, 'dua', True, (1+2j))\n"
     ]
    }
   ],
   "source": [
    "# Tidak dapat menambahkan elemen baru\n",
    "T1 = (1, \"dua\", True, 1+2j)\n",
    "print (f' tuple\\t:{T1}')"
   ]
  },
  {
   "cell_type": "code",
   "execution_count": 4,
   "metadata": {},
   "outputs": [
    {
     "ename": "AttributeError",
     "evalue": "'tuple' object has no attribute 'append'",
     "output_type": "error",
     "traceback": [
      "\u001b[1;31m---------------------------------------------------------------------------\u001b[0m",
      "\u001b[1;31mAttributeError\u001b[0m                            Traceback (most recent call last)",
      "\u001b[1;32m~\\AppData\\Local\\Temp/ipykernel_12124/2144288483.py\u001b[0m in \u001b[0;36m<module>\u001b[1;34m\u001b[0m\n\u001b[1;32m----> 1\u001b[1;33m \u001b[0mT1\u001b[0m\u001b[1;33m.\u001b[0m\u001b[0mappend\u001b[0m\u001b[1;33m(\u001b[0m\u001b[1;36m10\u001b[0m\u001b[1;33m)\u001b[0m\u001b[1;33m\u001b[0m\u001b[1;33m\u001b[0m\u001b[0m\n\u001b[0m\u001b[0;32m      2\u001b[0m \u001b[0mT1\u001b[0m\u001b[1;33m.\u001b[0m\u001b[0mappend\u001b[0m\u001b[1;33m(\u001b[0m\u001b[1;36m50\u001b[0m\u001b[1;33m)\u001b[0m\u001b[1;33m\u001b[0m\u001b[1;33m\u001b[0m\u001b[0m\n\u001b[0;32m      3\u001b[0m \u001b[0mprint\u001b[0m \u001b[1;33m(\u001b[0m\u001b[1;34mf' tuple\\t:{T1}'\u001b[0m\u001b[1;33m)\u001b[0m\u001b[1;33m\u001b[0m\u001b[1;33m\u001b[0m\u001b[0m\n",
      "\u001b[1;31mAttributeError\u001b[0m: 'tuple' object has no attribute 'append'"
     ]
    }
   ],
   "source": [
    "T1.append(10)\n",
    "T1.append(50)\n",
    "print (f' tuple\\t:{T1}')"
   ]
  },
  {
   "cell_type": "code",
   "execution_count": 5,
   "metadata": {},
   "outputs": [
    {
     "name": "stdout",
     "output_type": "stream",
     "text": [
      " tuple\t:(1, 'dua', True, (1+2j))\n"
     ]
    }
   ],
   "source": [
    "# Tidak dapat menghapus elemen\n",
    "T1 = (1, \"dua\", True, 1+2j)\n",
    "print (f' tuple\\t:{T1}')"
   ]
  },
  {
   "cell_type": "code",
   "execution_count": 6,
   "metadata": {},
   "outputs": [
    {
     "ename": "AttributeError",
     "evalue": "'tuple' object has no attribute 'remove'",
     "output_type": "error",
     "traceback": [
      "\u001b[1;31m---------------------------------------------------------------------------\u001b[0m",
      "\u001b[1;31mAttributeError\u001b[0m                            Traceback (most recent call last)",
      "\u001b[1;32m~\\AppData\\Local\\Temp/ipykernel_12124/157827873.py\u001b[0m in \u001b[0;36m<module>\u001b[1;34m\u001b[0m\n\u001b[1;32m----> 1\u001b[1;33m \u001b[0mT1\u001b[0m\u001b[1;33m.\u001b[0m\u001b[0mremove\u001b[0m\u001b[1;33m(\u001b[0m\u001b[1;36m1\u001b[0m\u001b[1;33m)\u001b[0m\u001b[1;33m\u001b[0m\u001b[1;33m\u001b[0m\u001b[0m\n\u001b[0m\u001b[0;32m      2\u001b[0m \u001b[0mT1\u001b[0m\u001b[1;33m.\u001b[0m\u001b[0mremove\u001b[0m\u001b[1;33m(\u001b[0m\u001b[1;34m\"dua\"\u001b[0m\u001b[1;33m)\u001b[0m\u001b[1;33m\u001b[0m\u001b[1;33m\u001b[0m\u001b[0m\n\u001b[0;32m      3\u001b[0m \u001b[0mprint\u001b[0m \u001b[1;33m(\u001b[0m\u001b[1;34mf' tuple\\t:{T1}'\u001b[0m\u001b[1;33m)\u001b[0m\u001b[1;33m\u001b[0m\u001b[1;33m\u001b[0m\u001b[0m\n",
      "\u001b[1;31mAttributeError\u001b[0m: 'tuple' object has no attribute 'remove'"
     ]
    }
   ],
   "source": [
    "T1.remove(1)\n",
    "T1.remove(\"dua\")\n",
    "print (f' tuple\\t:{T1}')"
   ]
  },
  {
   "cell_type": "markdown",
   "metadata": {},
   "source": [
    "### Menggabungkan Tuple"
   ]
  },
  {
   "cell_type": "code",
   "execution_count": 16,
   "metadata": {},
   "outputs": [
    {
     "data": {
      "text/plain": [
       "(3, 'kita', False, (5+3j), 3, 2.4, True, 2.4)"
      ]
     },
     "execution_count": 16,
     "metadata": {},
     "output_type": "execute_result"
    }
   ],
   "source": [
    "#Menggabungkan tuple\n",
    "T3 = T1 + T2\n",
    "T3"
   ]
  },
  {
   "cell_type": "markdown",
   "metadata": {},
   "source": [
    "**Latihan 2**"
   ]
  },
  {
   "cell_type": "code",
   "execution_count": 17,
   "metadata": {},
   "outputs": [
    {
     "data": {
      "text/plain": [
       "(15, 9.25, True, 9.25)"
      ]
     },
     "execution_count": 17,
     "metadata": {},
     "output_type": "execute_result"
    }
   ],
   "source": [
    "#Tuple 2\n",
    "T2 = (15, 9.25, True, 9.25)\n",
    "T2"
   ]
  },
  {
   "cell_type": "code",
   "execution_count": 18,
   "metadata": {},
   "outputs": [
    {
     "data": {
      "text/plain": [
       "(3, 'kita', False, (5+3j), 15, 9.25, True, 9.25)"
      ]
     },
     "execution_count": 18,
     "metadata": {},
     "output_type": "execute_result"
    }
   ],
   "source": [
    "#Gabungan Tuple\n",
    "T3 = T1 + T2\n",
    "T3"
   ]
  }
 ],
 "metadata": {
  "colab": {
   "authorship_tag": "ABX9TyN6ISYmspA/QV7VTV+vDgjN",
   "name": "M2P1V2_Struktur_Data_List.ipynb",
   "provenance": []
  },
  "kernelspec": {
   "display_name": "Python 3 (ipykernel)",
   "language": "python",
   "name": "python3"
  },
  "language_info": {
   "codemirror_mode": {
    "name": "ipython",
    "version": 3
   },
   "file_extension": ".py",
   "mimetype": "text/x-python",
   "name": "python",
   "nbconvert_exporter": "python",
   "pygments_lexer": "ipython3",
   "version": "3.9.7"
  }
 },
 "nbformat": 4,
 "nbformat_minor": 1
}
